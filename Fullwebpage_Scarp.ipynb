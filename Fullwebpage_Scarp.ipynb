{
 "cells": [
  {
   "cell_type": "code",
   "execution_count": 4,
   "id": "c89c54f2-0dc6-4b79-a638-d8f69b40d23b",
   "metadata": {},
   "outputs": [
    {
     "name": "stdout",
     "output_type": "stream",
     "text": [
      "Scraped: https://zinnov.com/\n"
     ]
    },
    {
     "ename": "PermissionError",
     "evalue": "[Errno 13] Permission denied: 'scraped_data\\\\about-us/news-media/'",
     "output_type": "error",
     "traceback": [
      "\u001b[1;31m---------------------------------------------------------------------------\u001b[0m",
      "\u001b[1;31mPermissionError\u001b[0m                           Traceback (most recent call last)",
      "Cell \u001b[1;32mIn[4], line 78\u001b[0m\n\u001b[0;32m     75\u001b[0m os\u001b[38;5;241m.\u001b[39mmakedirs(\u001b[38;5;124m\"\u001b[39m\u001b[38;5;124mscraped_data\u001b[39m\u001b[38;5;124m\"\u001b[39m, exist_ok\u001b[38;5;241m=\u001b[39m\u001b[38;5;28;01mTrue\u001b[39;00m)\n\u001b[0;32m     77\u001b[0m \u001b[38;5;66;03m# Start scraping from the base URL\u001b[39;00m\n\u001b[1;32m---> 78\u001b[0m \u001b[43mscrape_page\u001b[49m\u001b[43m(\u001b[49m\u001b[43mbase_url\u001b[49m\u001b[43m)\u001b[49m\n\u001b[0;32m     80\u001b[0m \u001b[38;5;28mprint\u001b[39m(\u001b[38;5;124m\"\u001b[39m\u001b[38;5;124mScraping completed.\u001b[39m\u001b[38;5;124m\"\u001b[39m)\n",
      "Cell \u001b[1;32mIn[4], line 70\u001b[0m, in \u001b[0;36mscrape_page\u001b[1;34m(url)\u001b[0m\n\u001b[0;32m     68\u001b[0m         next_url \u001b[38;5;241m=\u001b[39m urljoin(url, link[\u001b[38;5;124m'\u001b[39m\u001b[38;5;124mhref\u001b[39m\u001b[38;5;124m'\u001b[39m])\n\u001b[0;32m     69\u001b[0m         \u001b[38;5;28;01mif\u001b[39;00m next_url\u001b[38;5;241m.\u001b[39mstartswith(base_url) \u001b[38;5;129;01mand\u001b[39;00m is_allowed_by_robots_txt(next_url):\n\u001b[1;32m---> 70\u001b[0m             \u001b[43mscrape_page\u001b[49m\u001b[43m(\u001b[49m\u001b[43mnext_url\u001b[49m\u001b[43m)\u001b[49m\n\u001b[0;32m     71\u001b[0m \u001b[38;5;28;01melse\u001b[39;00m:\n\u001b[0;32m     72\u001b[0m     \u001b[38;5;28mprint\u001b[39m(\u001b[38;5;124mf\u001b[39m\u001b[38;5;124m\"\u001b[39m\u001b[38;5;124mFailed to retrieve: \u001b[39m\u001b[38;5;132;01m{\u001b[39;00murl\u001b[38;5;132;01m}\u001b[39;00m\u001b[38;5;124m\"\u001b[39m)\n",
      "Cell \u001b[1;32mIn[4], line 60\u001b[0m, in \u001b[0;36mscrape_page\u001b[1;34m(url)\u001b[0m\n\u001b[0;32m     58\u001b[0m file_path \u001b[38;5;241m=\u001b[39m os\u001b[38;5;241m.\u001b[39mpath\u001b[38;5;241m.\u001b[39mjoin(\u001b[38;5;124m\"\u001b[39m\u001b[38;5;124mscraped_data\u001b[39m\u001b[38;5;124m\"\u001b[39m, relative_path)\n\u001b[0;32m     59\u001b[0m os\u001b[38;5;241m.\u001b[39mmakedirs(os\u001b[38;5;241m.\u001b[39mpath\u001b[38;5;241m.\u001b[39mdirname(file_path), exist_ok\u001b[38;5;241m=\u001b[39m\u001b[38;5;28;01mTrue\u001b[39;00m)\n\u001b[1;32m---> 60\u001b[0m \u001b[38;5;28;01mwith\u001b[39;00m \u001b[38;5;28;43mopen\u001b[39;49m\u001b[43m(\u001b[49m\u001b[43mfile_path\u001b[49m\u001b[43m,\u001b[49m\u001b[43m \u001b[49m\u001b[38;5;124;43m'\u001b[39;49m\u001b[38;5;124;43mw\u001b[39;49m\u001b[38;5;124;43m'\u001b[39;49m\u001b[43m,\u001b[49m\u001b[43m \u001b[49m\u001b[43mencoding\u001b[49m\u001b[38;5;241;43m=\u001b[39;49m\u001b[38;5;124;43m'\u001b[39;49m\u001b[38;5;124;43mutf-8\u001b[39;49m\u001b[38;5;124;43m'\u001b[39;49m\u001b[43m)\u001b[49m \u001b[38;5;28;01mas\u001b[39;00m file:\n\u001b[0;32m     61\u001b[0m     file\u001b[38;5;241m.\u001b[39mwrite(soup\u001b[38;5;241m.\u001b[39mprettify())\n\u001b[0;32m     63\u001b[0m \u001b[38;5;28mprint\u001b[39m(\u001b[38;5;124mf\u001b[39m\u001b[38;5;124m\"\u001b[39m\u001b[38;5;124mScraped: \u001b[39m\u001b[38;5;132;01m{\u001b[39;00murl\u001b[38;5;132;01m}\u001b[39;00m\u001b[38;5;124m\"\u001b[39m)\n",
      "File \u001b[1;32m~\\anaconda3\\lib\\site-packages\\IPython\\core\\interactiveshell.py:282\u001b[0m, in \u001b[0;36m_modified_open\u001b[1;34m(file, *args, **kwargs)\u001b[0m\n\u001b[0;32m    275\u001b[0m \u001b[38;5;28;01mif\u001b[39;00m file \u001b[38;5;129;01min\u001b[39;00m {\u001b[38;5;241m0\u001b[39m, \u001b[38;5;241m1\u001b[39m, \u001b[38;5;241m2\u001b[39m}:\n\u001b[0;32m    276\u001b[0m     \u001b[38;5;28;01mraise\u001b[39;00m \u001b[38;5;167;01mValueError\u001b[39;00m(\n\u001b[0;32m    277\u001b[0m         \u001b[38;5;124mf\u001b[39m\u001b[38;5;124m\"\u001b[39m\u001b[38;5;124mIPython won\u001b[39m\u001b[38;5;124m'\u001b[39m\u001b[38;5;124mt let you open fd=\u001b[39m\u001b[38;5;132;01m{\u001b[39;00mfile\u001b[38;5;132;01m}\u001b[39;00m\u001b[38;5;124m by default \u001b[39m\u001b[38;5;124m\"\u001b[39m\n\u001b[0;32m    278\u001b[0m         \u001b[38;5;124m\"\u001b[39m\u001b[38;5;124mas it is likely to crash IPython. If you know what you are doing, \u001b[39m\u001b[38;5;124m\"\u001b[39m\n\u001b[0;32m    279\u001b[0m         \u001b[38;5;124m\"\u001b[39m\u001b[38;5;124myou can use builtins\u001b[39m\u001b[38;5;124m'\u001b[39m\u001b[38;5;124m open.\u001b[39m\u001b[38;5;124m\"\u001b[39m\n\u001b[0;32m    280\u001b[0m     )\n\u001b[1;32m--> 282\u001b[0m \u001b[38;5;28;01mreturn\u001b[39;00m io_open(file, \u001b[38;5;241m*\u001b[39margs, \u001b[38;5;241m*\u001b[39m\u001b[38;5;241m*\u001b[39mkwargs)\n",
      "\u001b[1;31mPermissionError\u001b[0m: [Errno 13] Permission denied: 'scraped_data\\\\about-us/news-media/'"
     ]
    }
   ],
   "source": [
    "import requests\n",
    "from bs4 import BeautifulSoup\n",
    "from urllib.parse import urljoin\n",
    "import os\n",
    "\n",
    "# Define the base URL of the website you want to scrape\n",
    "base_url = \"https://zinnov.com/\"\n",
    "\n",
    "# Initialize a set to store visited URLs\n",
    "visited_urls = set()\n",
    "\n",
    "# Function to check if it's allowed to scrape a URL based on robots.txt\n",
    "def is_allowed_by_robots_txt(url):\n",
    "    # Get the URL of the robots.txt file\n",
    "    robots_url = urljoin(url, \"/robots.txt\")\n",
    "    \n",
    "    # Send an HTTP GET request to the robots.txt file\n",
    "    robots_response = requests.get(robots_url)\n",
    "    \n",
    "    # Check if the request was successful (status code 200)\n",
    "    if robots_response.status_code == 200:\n",
    "        # Check if the robots.txt file allows user-agent \"User-agent: *\"\n",
    "        if \"User-agent: *\" in robots_response.text:\n",
    "            # Check if \"Disallow:\" is specified for the current URL\n",
    "            for line in robots_response.text.split('\\n'):\n",
    "                if line.strip().startswith(\"Disallow:\"):\n",
    "                    disallowed_path = line.split(\":\")[1].strip()\n",
    "                    if disallowed_path == \"/\":\n",
    "                        return False\n",
    "                    if url.endswith(\"/\"):\n",
    "                        url = url[:-1]\n",
    "                    if disallowed_path == url[len(base_url):]:\n",
    "                        return False\n",
    "        return True\n",
    "    else:\n",
    "        # If there's no robots.txt file or if there's an issue with it, assume it's allowed\n",
    "        return True\n",
    "\n",
    "# Function to recursively scrape all pages\n",
    "def scrape_page(url):\n",
    "    if url in visited_urls:\n",
    "        return\n",
    "    \n",
    "    visited_urls.add(url)\n",
    "    \n",
    "    # Send an HTTP GET request to the URL\n",
    "    response = requests.get(url)\n",
    "    \n",
    "    # Check if the request was successful (status code 200)\n",
    "    if response.status_code == 200:\n",
    "        # Parse the HTML content of the page using BeautifulSoup\n",
    "        soup = BeautifulSoup(response.text, 'html.parser')\n",
    "\n",
    "        # Save the HTML content to a file in a subdirectory\n",
    "        relative_path = url[len(base_url):]\n",
    "        if relative_path == \"\":\n",
    "            relative_path = \"index.html\"\n",
    "        file_path = os.path.join(\"scraped_data\", relative_path)\n",
    "        os.makedirs(os.path.dirname(file_path), exist_ok=True)\n",
    "        with open(file_path, 'w', encoding='utf-8') as file:\n",
    "            file.write(soup.prettify())\n",
    "        \n",
    "        print(f\"Scraped: {url}\")\n",
    "        \n",
    "        # Find all links on the page and recursively scrape them\n",
    "        links = soup.find_all('a', href=True)\n",
    "        for link in links:\n",
    "            next_url = urljoin(url, link['href'])\n",
    "            if next_url.startswith(base_url) and is_allowed_by_robots_txt(next_url):\n",
    "                scrape_page(next_url)\n",
    "    else:\n",
    "        print(f\"Failed to retrieve: {url}\")\n",
    "\n",
    "# Create a directory to store the scraped data\n",
    "os.makedirs(\"scraped_data\", exist_ok=True)\n",
    "\n",
    "# Start scraping from the base URL\n",
    "scrape_page(base_url)\n",
    "\n",
    "print(\"Scraping completed.\")\n"
   ]
  },
  {
   "cell_type": "code",
   "execution_count": null,
   "id": "0dcae307-9a0a-46ad-b181-d7c534befd06",
   "metadata": {},
   "outputs": [],
   "source": []
  }
 ],
 "metadata": {
  "kernelspec": {
   "display_name": "Python 3 (ipykernel)",
   "language": "python",
   "name": "python3"
  },
  "language_info": {
   "codemirror_mode": {
    "name": "ipython",
    "version": 3
   },
   "file_extension": ".py",
   "mimetype": "text/x-python",
   "name": "python",
   "nbconvert_exporter": "python",
   "pygments_lexer": "ipython3",
   "version": "3.10.9"
  }
 },
 "nbformat": 4,
 "nbformat_minor": 5
}
